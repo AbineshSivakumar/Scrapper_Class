{
 "cells": [
  {
   "cell_type": "code",
   "execution_count": 2,
   "metadata": {},
   "outputs": [
    {
     "name": "stderr",
     "output_type": "stream",
     "text": [
      ".FF.\n",
      "======================================================================\n",
      "FAIL: test_soup (__main__.TestWebScraper)\n",
      "----------------------------------------------------------------------\n",
      "Traceback (most recent call last):\n",
      "  File \"/var/folders/kl/g6lqv4r10hdcypq0j9xg3dqc0000gn/T/ipykernel_12029/445662519.py\", line 16, in test_soup\n",
      "    self.assertEqual(BeautifulSoup(requests.get(url).text, \"html.parser\").title.text, \"TED - Tenders Electronic Daily\")\n",
      "AssertionError: 'eTendering - Search for call for tenders' != 'TED - Tenders Electronic Daily'\n",
      "- eTendering - Search for call for tenders\n",
      "+ TED - Tenders Electronic Daily\n",
      "\n",
      "\n",
      "======================================================================\n",
      "FAIL: test_table (__main__.TestWebScraper)\n",
      "----------------------------------------------------------------------\n",
      "Traceback (most recent call last):\n",
      "  File \"/var/folders/kl/g6lqv4r10hdcypq0j9xg3dqc0000gn/T/ipykernel_12029/445662519.py\", line 19, in test_table\n",
      "    self.assertEqual(pd.read_html(url)[0].columns[0], \"Procedure\")\n",
      "AssertionError: 'Unnamed: 0' != 'Procedure'\n",
      "- Unnamed: 0\n",
      "+ Procedure\n",
      "\n",
      "\n",
      "----------------------------------------------------------------------\n",
      "Ran 4 tests in 11.213s\n",
      "\n",
      "FAILED (failures=2)\n"
     ]
    }
   ],
   "source": [
    "from bs4 import BeautifulSoup\n",
    "import requests\n",
    "import pandas as pd\n",
    "import unittest\n",
    "\n",
    "url = \"https://etendering.ted.europa.eu/cft/cft-search.html?_caList=1&procedureTypeForthcoming=&startDateTo=&_procedureTypeForthcoming=1&confirm=Search&closingDateFrom=&closingDateTo=&startDateFrom=&_procedureTypeOngoing=1&maxResults=50&procedureTypeOngoing=&page=165&text=&status=\"\n",
    "\n",
    "class TestWebScraper(unittest.TestCase):\n",
    "    def test_url(self):\n",
    "        self.assertEqual(url, \"https://etendering.ted.europa.eu/cft/cft-search.html?_caList=1&procedureTypeForthcoming=&startDateTo=&_procedureTypeForthcoming=1&confirm=Search&closingDateFrom=&closingDateTo=&startDateFrom=&_procedureTypeOngoing=1&maxResults=50&procedureTypeOngoing=&page=165&text=&status=\")\n",
    "\n",
    "    def test_request(self):\n",
    "        self.assertEqual(requests.get(url).status_code, 200)\n",
    "\n",
    "    def test_soup(self):\n",
    "        self.assertEqual(BeautifulSoup(requests.get(url).text, \"html.parser\").title.text, \"TED - Tenders Electronic Daily\")\n",
    "\n",
    "    def test_table(self):\n",
    "        self.assertEqual(pd.read_html(url)[0].columns[0], \"Procedure\")\n",
    "\n",
    "if __name__ == '__main__':\n",
    "    unittest.main(argv=['first-arg-is-ignored'], exit=False)"
   ]
  },
  {
   "cell_type": "code",
   "execution_count": null,
   "metadata": {},
   "outputs": [],
   "source": []
  }
 ],
 "metadata": {
  "kernelspec": {
   "display_name": "Python 3.9.7 ('base')",
   "language": "python",
   "name": "python3"
  },
  "language_info": {
   "codemirror_mode": {
    "name": "ipython",
    "version": 3
   },
   "file_extension": ".py",
   "mimetype": "text/x-python",
   "name": "python",
   "nbconvert_exporter": "python",
   "pygments_lexer": "ipython3",
   "version": "3.9.7"
  },
  "orig_nbformat": 4,
  "vscode": {
   "interpreter": {
    "hash": "71d289fd27a1fe55770209f57b4946153f7a589d2b3bb1d40babe58180772666"
   }
  }
 },
 "nbformat": 4,
 "nbformat_minor": 2
}
